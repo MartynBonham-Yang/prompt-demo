{
 "cells": [
  {
   "cell_type": "code",
   "execution_count": 1,
   "id": "ddce3f43",
   "metadata": {
    "slideshow": {
     "slide_type": "skip"
    }
   },
   "outputs": [
    {
     "data": {
      "text/html": [
       "\n",
       "                <script type=\"application/javascript\" id=\"jupyter_black\">\n",
       "                (function() {\n",
       "                    if (window.IPython === undefined) {\n",
       "                        return\n",
       "                    }\n",
       "                    var msg = \"WARNING: it looks like you might have loaded \" +\n",
       "                        \"jupyter_black in a non-lab notebook with \" +\n",
       "                        \"`is_lab=True`. Please double check, and if \" +\n",
       "                        \"loading with `%load_ext` please review the README!\"\n",
       "                    console.log(msg)\n",
       "                    alert(msg)\n",
       "                })()\n",
       "                </script>\n",
       "                "
      ],
      "text/plain": [
       "<IPython.core.display.HTML object>"
      ]
     },
     "metadata": {},
     "output_type": "display_data"
    }
   ],
   "source": [
    "%load_ext jupyter_black"
   ]
  },
  {
   "cell_type": "markdown",
   "id": "9f70b95c",
   "metadata": {
    "slideshow": {
     "slide_type": "slide"
    }
   },
   "source": [
    "<div style=\"display: flex; align-items: center;\">\n",
    "  <div style=\"flex: 1;\">\n",
    "    <img src=\"images/notebook.gif\" alt=\"segment\" width=\"500\">\n",
    "  </div>\n",
    "  <div style=\"flex: 1;\">\n",
    "    <h2> Practical Prompt Engineering </h2>\n",
    "    <br>\n",
    "    <div>\n",
    "       In this tutorial, you’ll learn how to:\n",
    "       <ul>\n",
    "        <li>Apply prompt engineering techniques to practical, real-world examples\n",
    "        <li>Tap into the power of roles in messages to go beyond using singular role prompts\n",
    "        <li>Use numbered steps, delimiters, few-shot prompting and other techniques to improve your results\n",
    "        <li>Understand and use chain-of-thought prompting to add more context\n",
    "      </ul>\n",
    "    <div>\n",
    "\n",
    "  </div>\n",
    "</div>"
   ]
  },
  {
   "cell_type": "markdown",
   "id": "81a82fc7",
   "metadata": {
    "slideshow": {
     "slide_type": "slide"
    }
   },
   "source": [
    "First let's import all the libraries we're going to use..."
   ]
  },
  {
   "cell_type": "code",
   "execution_count": 2,
   "id": "443b222a-e27f-4aca-8fb5-7588ea7d3ab4",
   "metadata": {
    "slideshow": {
     "slide_type": "fragment"
    }
   },
   "outputs": [],
   "source": [
    "import os\n",
    "import openai"
   ]
  },
  {
   "cell_type": "markdown",
   "id": "6b099b72",
   "metadata": {
    "slideshow": {
     "slide_type": "fragment"
    }
   },
   "source": [
    "and retrieve our OpenAI API key..."
   ]
  },
  {
   "cell_type": "code",
   "execution_count": 64,
   "id": "767f9581",
   "metadata": {
    "slideshow": {
     "slide_type": "fragment"
    }
   },
   "outputs": [],
   "source": [
    "openai.api_key = os.environ.get(\"OPENAI_API_KEY\")"
   ]
  },
  {
   "cell_type": "markdown",
   "id": "7b309a80",
   "metadata": {
    "slideshow": {
     "slide_type": "slide"
    }
   },
   "source": [
    "Chat completion API [documentation](https://platform.openai.com/docs/guides/gpt):"
   ]
  },
  {
   "cell_type": "code",
   "execution_count": null,
   "id": "49bc2e8c",
   "metadata": {
    "slideshow": {
     "slide_type": "fragment"
    }
   },
   "outputs": [],
   "source": [
    "response = openai.ChatCompletion.create(\n",
    "    model=\"gpt-3.5-turbo\",\n",
    "    messages=[\n",
    "        {\"role\": \"system\", \"content\": \"You are a helpful assistant.\"},\n",
    "        {\"role\": \"user\", \"content\": \"Who won the world series in 2020?\"},\n",
    "        {\"role\": \"assistant\", \"content\": \"The Los Angeles Dodgers won the World Series in 2020.\",\n",
    "        },\n",
    "    ],\n",
    ")"
   ]
  },
  {
   "cell_type": "markdown",
   "id": "81a6efc8",
   "metadata": {
    "slideshow": {
     "slide_type": "slide"
    }
   },
   "source": [
    "Chat completions [response](https://platform.openai.com/docs/guides/gpt/chat-completions-response-format) format:"
   ]
  },
  {
   "cell_type": "code",
   "execution_count": 97,
   "id": "46cde456",
   "metadata": {
    "slideshow": {
     "slide_type": "fragment"
    }
   },
   "outputs": [],
   "source": [
    "response = {\n",
    "    \"choices\": [\n",
    "        {\n",
    "            \"finish_reason\": \"stop\",\n",
    "            \"index\": 0,\n",
    "            \"message\": {\n",
    "                \"content\": \"The Los Angeles Dodgers won the World Series in 2020.\",\n",
    "                \"role\": \"assistant\",\n",
    "            },\n",
    "        }\n",
    "    ],\n",
    "    \"created\": 1677664795,\n",
    "    \"id\": \"chatcmpl-7QyqpwdfhqwajicIEznoc6Q47XAyW\",\n",
    "    \"model\": \"gpt-3.5-turbo-0613\",\n",
    "    \"object\": \"chat.completion\",\n",
    "    \"usage\": {\"completion_tokens\": 17, \"prompt_tokens\": 57, \"total_tokens\": 74},\n",
    "}"
   ]
  },
  {
   "cell_type": "markdown",
   "id": "70e108bc",
   "metadata": {
    "slideshow": {
     "slide_type": "fragment"
    }
   },
   "source": [
    "The assistant’s reply can be extracted with:"
   ]
  },
  {
   "cell_type": "code",
   "execution_count": null,
   "id": "29ca04cf",
   "metadata": {},
   "outputs": [],
   "source": [
    "response[\"choices\"][0][\"message\"][\"content\"]"
   ]
  },
  {
   "cell_type": "markdown",
   "id": "2faa6a38",
   "metadata": {
    "slideshow": {
     "slide_type": "slide"
    }
   },
   "source": [
    "The next function allows us to send prompts to the model and get a response back. <br>\n",
    "\n",
    "We have specified the following model parameters:\n",
    "* Model: **GPT-3.5-turbo**\n",
    "* Temperature: **0**\n",
    "\n",
    "The function takes as inputs <u>prompt</u> and a <u>list of previous messages</u>, and returns a new list of messsages that include the prompt and the response from the model:"
   ]
  },
  {
   "cell_type": "code",
   "execution_count": null,
   "id": "9e5db4cd",
   "metadata": {
    "slideshow": {
     "slide_type": "slide"
    }
   },
   "outputs": [],
   "source": [
    "def get_completion_from_messages(\n",
    "    prompt,\n",
    "    messages,\n",
    "    model=\"gpt-3.5-turbo\",\n",
    "    temperature=0\n",
    "):\n",
    "\n",
    "    if not isinstance(messages, list):\n",
    "        messages = [messages]\n",
    "\n",
    "    messages.append(prompt)\n",
    "    \n",
    "    response = openai.ChatCompletion.create(\n",
    "        model=model,\n",
    "        messages=messages,\n",
    "        temperature=temperature\n",
    "    )\n",
    "    \n",
    "    print(response.choices[0].message[\"content\"])\n",
    "\n",
    "    messages.append(response.choices[0].message)\n",
    "    return messages"
   ]
  },
  {
   "cell_type": "markdown",
   "id": "b76a865f",
   "metadata": {
    "slideshow": {
     "slide_type": "slide"
    }
   },
   "source": [
    "Let's test it!"
   ]
  },
  {
   "cell_type": "code",
   "execution_count": null,
   "id": "01ddbb9c",
   "metadata": {
    "scrolled": true,
    "slideshow": {
     "slide_type": "fragment"
    }
   },
   "outputs": [],
   "source": [
    "messages = [\n",
    "    {\"role\": \"user\", \"content\": \"My name is Alex\"},\n",
    "]\n",
    "\n",
    "prompt = {\"role\": \"user\", \"content\": \"What is my name?\"}\n",
    "\n",
    "response = get_completion_from_messages(prompt, messages)"
   ]
  },
  {
   "cell_type": "code",
   "execution_count": 41,
   "id": "3586bfc2",
   "metadata": {
    "slideshow": {
     "slide_type": "skip"
    }
   },
   "outputs": [],
   "source": [
    "def fprint(output):\n",
    "    if isinstance(output, list):\n",
    "        for item in output:\n",
    "            if \"role\" in item and \"content\" in item:\n",
    "                role = item[\"role\"]\n",
    "                content = item[\"content\"].strip()\n",
    "\n",
    "                if role == \"user\":\n",
    "                    prefix = \"User\"\n",
    "                elif role == \"assistant\":\n",
    "                    prefix = \"Assistant\"\n",
    "                    content = content.replace(\n",
    "                        \"\\n\\n\", \"\\n\"\n",
    "                    )  # Replace double newlines with single newlines\n",
    "                else:\n",
    "                    prefix = role.capitalize()\n",
    "\n",
    "                formatted_item = f\"{prefix}: \\n {content}\\n\"\n",
    "                print(formatted_item)\n",
    "                print(\"---\" * 30)\n",
    "            else:\n",
    "                print(\"Invalid output format\")\n",
    "    else:\n",
    "        print(\"Invalid output format\")"
   ]
  },
  {
   "cell_type": "markdown",
   "id": "916779ed",
   "metadata": {
    "slideshow": {
     "slide_type": "slide"
    }
   },
   "source": [
    "# Ways to Engineer your Prompts\n",
    "\n",
    "We will now look at a few different examples of how you can improve your promtps to become the utlimate prompt engineer!\n",
    "\n",
    "Let's explore the following techniques:\n",
    "\n",
    "<ul>\n",
    "<li> <b>Zero-shot prompting:</b> Asking the language model a normal question without any additional context\n",
    "<li> <b>Role prompting:</b> Asking the language model a normal question without any additional context\n",
    "<li> <b>Detail & Specificity:</b> Breaking down a complex prompt into a series of small, specific steps\n",
    "<li> <b>Few-shot prompting:</b> Conditioning the model on a few examples to boost its performance\n",
    "<li> <b>Using delimiters:</b> Adding special tokens or phrases to provide structure and instructions to the model\n",
    "</ul>"
   ]
  },
  {
   "cell_type": "markdown",
   "id": "b7c5b3ce",
   "metadata": {
    "slideshow": {
     "slide_type": "slide"
    }
   },
   "source": [
    "## 1. Zero-shot prompting 🤖\n",
    "\n",
    "First, we have a list of reviews written below. Our task is to summarise them using ChatGPT. <br> Let's see what we can do."
   ]
  },
  {
   "cell_type": "code",
   "execution_count": 37,
   "id": "46120dd2",
   "metadata": {
    "slideshow": {
     "slide_type": "fragment"
    }
   },
   "outputs": [],
   "source": [
    "reviews = [\n",
    "    (\n",
    "        \"Date: December 15, 2021; Username: John123; Review: I am absolutely delighted \\\n",
    "    with this savings product! The interest rates are fantastic, and it has helped \\\n",
    "    me grow my savings significantly. Highly recommend!\"\n",
    "    ),\n",
    "    (\n",
    "        \"Date: November 28, 2021; Username: Sarah77; Review: I must say, I am quite \\\n",
    "    disappointed with this savings product. The promised returns were not as \\\n",
    "    impressive as advertised, and the fees associated with it added up quickly. \\\n",
    "    Not worth it.\"\n",
    "    ),\n",
    "    (\n",
    "        \"Date: January 5, 2022; Username: AlexSmith; Review: My opinion? I'm rather \\\n",
    "    indifferent about this savings product. It's just like any other basic savings \\\n",
    "    account out there. Nothing special, but it does the job.\"\n",
    "    ),\n",
    "]"
   ]
  },
  {
   "cell_type": "code",
   "execution_count": 76,
   "id": "63005845",
   "metadata": {
    "scrolled": true,
    "slideshow": {
     "slide_type": "slide"
    }
   },
   "outputs": [
    {
     "name": "stdout",
     "output_type": "stream",
     "text": [
      "Summarise these 3 reviews:['Date: December 15, 2021; Username: John123; Review: I am absolutely delighted     with this savings product! The interest rates are fantastic, and it has helped     me grow my savings significantly. Highly recommend!', 'Date: November 28, 2021; Username: Sarah77; Review: I must say, I am quite     disappointed with this savings product. The promised returns were not as     impressive as advertised, and the fees associated with it added up quickly.     Not worth it.', \"Date: January 5, 2022; Username: AlexSmith; Review: My opinion? I'm rather     indifferent about this savings product. It's just like any other basic savings     account out there. Nothing special, but it does the job.\"]\n"
     ]
    }
   ],
   "source": [
    "content = f\"\"\"Summarise these 3 reviews:{reviews}\"\"\"\n",
    "\n",
    "print(content)"
   ]
  },
  {
   "cell_type": "code",
   "execution_count": 48,
   "id": "b503fb9e",
   "metadata": {
    "slideshow": {
     "slide_type": "fragment"
    }
   },
   "outputs": [
    {
     "name": "stdout",
     "output_type": "stream",
     "text": [
      "Review 1: John123 is extremely satisfied with the savings product, praising the fantastic interest rates and significant growth of their savings. Highly recommends it.\n",
      "\n",
      "Review 2: Sarah77 is disappointed with the savings product, as the promised returns were not as impressive as advertised and the associated fees accumulated quickly. Considers it not worth it.\n",
      "\n",
      "Review 3: AlexSmith expresses indifference towards the savings product, considering it similar to any other basic savings account. It is deemed as nothing special but gets the job done.\n"
     ]
    }
   ],
   "source": [
    "prompt = {\n",
    "    \"role\": \"user\",\n",
    "    \"content\": content,\n",
    "}\n",
    "\n",
    "messages = get_completion_from_messages(prompt, [])"
   ]
  },
  {
   "cell_type": "markdown",
   "id": "bfcc8ec6",
   "metadata": {
    "slideshow": {
     "slide_type": "slide"
    }
   },
   "source": [
    "Great! It provided a summary of each review.\n",
    "\n",
    "What we just did is call **zero-shot prompting**, which is just a fancy way of saying that you’re asking a normal question or simply describing a task.\n",
    "\n",
    "But it's safe to say this is by no means useful enough to be a product yet. \n",
    "\n",
    "Let's now dive into the other prompt engineering techniques to improve our results. "
   ]
  },
  {
   "cell_type": "markdown",
   "id": "cdc7eb86",
   "metadata": {
    "slideshow": {
     "slide_type": "slide"
    }
   },
   "source": [
    "### System Role\n",
    "\n",
    "The system message is a behind-the-scenes prompt sent to the model before the user begins querying. <br>\n",
    "Typically we can use it to determine what **role** the AI should play and how it should behave generally. <br> \n",
    "For example, if you are creating a Pizza Ordering Chatbot, then you can specify that in the system message."
   ]
  },
  {
   "cell_type": "markdown",
   "id": "351c6dc4",
   "metadata": {
    "slideshow": {
     "slide_type": "fragment"
    }
   },
   "source": [
    "<div class=\"alert alert-block alert-info\">\n",
    "\n",
    "<b>Tip: </b>The 3 types of roles you can use are: <br>\n",
    "\n",
    "<ul>\n",
    "<li> <u>System role:</u> Allows you to specify the way the model answers questions. <br>\n",
    "                 Classic example: “You are a helpful assistant.”\n",
    "\n",
    "<li> <u>User role:</u> Equivalent to the queries made by the user\n",
    "\n",
    "<li> <u>Assistant role:</u> The model’s responses\n",
    "</ul>\n",
    "\n",
    "</div>"
   ]
  },
  {
   "cell_type": "markdown",
   "id": "a77a7550",
   "metadata": {
    "slideshow": {
     "slide_type": "slide"
    }
   },
   "source": [
    "## 2. Role Prompting 🤖\n",
    "\n",
    "In the next example we are setting the **role** of the model via the system message. This is known as \"Role Prompting\", and is a general practice to help set the tone and context for the model's responses."
   ]
  },
  {
   "cell_type": "code",
   "execution_count": 77,
   "id": "c014687f",
   "metadata": {
    "slideshow": {
     "slide_type": "fragment"
    }
   },
   "outputs": [],
   "source": [
    "system_message = {\n",
    "    \"role\": \"system\",\n",
    "    \"content\": (\n",
    "        \"\"\"\n",
    "        You are a Review Summariser. \\\n",
    "        Your job is to process reviews from customers, \\\n",
    "        and summarise them for analysis for the customer review team.\n",
    "        \"\"\"\n",
    "    ),\n",
    "}\n",
    "\n",
    "messages = [system_message]"
   ]
  },
  {
   "cell_type": "code",
   "execution_count": 79,
   "id": "5ebdedd8",
   "metadata": {
    "slideshow": {
     "slide_type": "slide"
    }
   },
   "outputs": [
    {
     "name": "stdout",
     "output_type": "stream",
     "text": [
      "Review 1: John123 is highly satisfied with the savings product, praising the fantastic interest rates and significant growth of their savings. Highly recommends it.\n",
      "\n",
      "Review 2: Sarah77 is disappointed with the savings product. The promised returns were not as impressive as advertised, and the fees associated with it added up quickly. Not worth it.\n",
      "\n",
      "Review 3: AlexSmith is indifferent about the savings product. It is described as a basic savings account with nothing special, but it gets the job done.\n"
     ]
    }
   ],
   "source": [
    "prompt = {\n",
    "    \"role\": \"user\",\n",
    "    \"content\": content,\n",
    "}\n",
    "\n",
    "messages = get_completion_from_messages(prompt, messages)"
   ]
  },
  {
   "cell_type": "markdown",
   "id": "d2580c54",
   "metadata": {
    "slideshow": {
     "slide_type": "fragment"
    }
   },
   "source": [
    "<div class=\"alert alert-block alert-success\">\n",
    "\n",
    "By using a role prompt via the system message, the summary is more structured and much clearer to read for the user.\n",
    "    \n",
    "</div>"
   ]
  },
  {
   "cell_type": "markdown",
   "id": "14802fb5",
   "metadata": {
    "slideshow": {
     "slide_type": "slide"
    }
   },
   "source": [
    "## 3. Detail and Specificity\n",
    "\n",
    "It is important that when you prompt, you are specific and as clear as possible.\n",
    "\n",
    "Note that clear ≠ short: the more detail you add, the better the model will understand how you want it to behave.\n",
    "\n",
    "In the next example, we'll try to add a category for each review: positive, neutral or negative:"
   ]
  },
  {
   "cell_type": "code",
   "execution_count": 85,
   "id": "44fb4002",
   "metadata": {
    "slideshow": {
     "slide_type": "slide"
    }
   },
   "outputs": [
    {
     "name": "stdout",
     "output_type": "stream",
     "text": [
      "Review 1: Positive\n",
      "Review 2: Bad\n",
      "Review 3: Neutral\n"
     ]
    }
   ],
   "source": [
    "system_message = {\n",
    "    \"role\": \"system\",\n",
    "    \"content\": \"\"\"\n",
    "    You are a Review Summariser. \\\n",
    "    Your job is to process reviews from customers, \\\n",
    "    and summarise them for analysis for the customer review team.\n",
    "    Categorise each review as positive, neutral, or bad.\n",
    "    \"\"\",\n",
    "}\n",
    "\n",
    "prompt = {\"role\": \"user\", \"content\": content}\n",
    "\n",
    "messages = [system_message]\n",
    "messages = get_completion_from_messages(prompt, messages)"
   ]
  },
  {
   "cell_type": "markdown",
   "id": "6d64f6e9",
   "metadata": {
    "slideshow": {
     "slide_type": "fragment"
    }
   },
   "source": [
    "As you can see, the model has only output the categories, and we're now missing all the other information. Let's be a bit more specific:"
   ]
  },
  {
   "cell_type": "code",
   "execution_count": 99,
   "id": "d55b7827",
   "metadata": {
    "scrolled": true,
    "slideshow": {
     "slide_type": "slide"
    }
   },
   "outputs": [
    {
     "name": "stdout",
     "output_type": "stream",
     "text": [
      "Review 1:\n",
      "- Name: John123\n",
      "- Date: December 15, 2021\n",
      "- Sentiment: Positive\n",
      "- Summary: John123 is delighted with the savings product, praising the fantastic interest rates and significant growth of savings.\n",
      "\n",
      "Review 2:\n",
      "- Name: Sarah77\n",
      "- Date: November 28, 2021\n",
      "- Sentiment: Negative\n",
      "- Summary: Sarah77 is disappointed with the savings product, mentioning that the promised returns were not as impressive as advertised and the fees added up quickly, making it not worth it.\n",
      "\n",
      "Review 3:\n",
      "- Name: AlexSmith\n",
      "- Date: January 5, 2022\n",
      "- Sentiment: Neutral\n",
      "- Summary: AlexSmith is indifferent about the savings product, stating that it is like any other basic savings account and does the job.\n"
     ]
    }
   ],
   "source": [
    "system_message = {\n",
    "    \"role\": \"system\",\n",
    "    \"content\": \"\"\"\n",
    "    You are a Review Summariser.\n",
    "    Your job is to process reviews from customers\n",
    "    and summarise them for analysis for the customer review team.\n",
    "\n",
    "    For each review output the name and date. \n",
    "    Also label each review as either 'Positive','Neutral', or 'Negative'.\n",
    "    Then provide a summary of key points in a single sentence.\n",
    "    \"\"\",\n",
    "}\n",
    "\n",
    "prompt = {\"role\": \"user\", \"content\": content}\n",
    "\n",
    "messages = [system_message]\n",
    "messages = get_completion_from_messages(prompt, messages)"
   ]
  },
  {
   "cell_type": "markdown",
   "id": "4fd92752",
   "metadata": {
    "slideshow": {
     "slide_type": "slide"
    }
   },
   "source": [
    "Great! We now have all the information displayed appropriately for each review. It's even structured the data for us in a list! Let's see if we can use a structure then to formalise our output a bit better."
   ]
  },
  {
   "cell_type": "markdown",
   "id": "6f64eef6",
   "metadata": {
    "slideshow": {
     "slide_type": "fragment"
    }
   },
   "source": [
    "You can further increase your specificity by describing your request in Numbered Steps as well as specifying the format that you want the model to use for your output\n"
   ]
  },
  {
   "cell_type": "code",
   "execution_count": 102,
   "id": "b3049da2",
   "metadata": {
    "slideshow": {
     "slide_type": "slide"
    }
   },
   "outputs": [
    {
     "name": "stdout",
     "output_type": "stream",
     "text": [
      "{\n",
      "  \"reviews\": [\n",
      "    {\n",
      "      \"Username\": \"John123\",\n",
      "      \"Date\": \"15/12/2021\",\n",
      "      \"Sentiment\": \"Positive\",\n",
      "      \"Key points\": \"Delighted with the savings product, fantastic interest rates, helped grow savings significantly, highly recommend\"\n",
      "    },\n",
      "    {\n",
      "      \"Username\": \"Sarah77\",\n",
      "      \"Date\": \"28/11/2021\",\n",
      "      \"Sentiment\": \"Negative\",\n",
      "      \"Key points\": \"Disappointed with the savings product, promised returns not as impressive as advertised, fees added up quickly, not worth it\"\n",
      "    },\n",
      "    {\n",
      "      \"Username\": \"AlexSmith\",\n",
      "      \"Date\": \"05/01/2022\",\n",
      "      \"Sentiment\": \"Neutral\",\n",
      "      \"Key points\": \"Indifferent about the savings product, similar to any other basic savings account, nothing special but does the job\"\n",
      "    }\n",
      "  ]\n",
      "}\n"
     ]
    }
   ],
   "source": [
    "system_message = {\n",
    "    \"role\": \"system\",\n",
    "    \"content\": \"\"\"\n",
    "    You are a Review Summariser.\n",
    "    Your job is to process reviews from customers\n",
    "    and summarise them for analysis for the customer review team:\n",
    "\n",
    "    1. For each review output the name and date. \n",
    "    2. Also label each review as either 'Positive','Neutral', or 'Negative'.\n",
    "    3. Provide a summary of key points in a single sentence.\n",
    "\n",
    "    Output: When outputting this information, use the following structure:\n",
    "    - [Username]: name of customer who made review\n",
    "    - [Date]: date of review, written as dd/mm/yyyy\n",
    "    - [Sentiment]: review sentiment\n",
    "    - [Key points]: key points of each review in one\n",
    "    \"\"\",\n",
    "}\n",
    "\n",
    "content = f\"\"\"Summarise these 3 reviews:{reviews} and return your response as a JSON\"\"\"\n",
    "\n",
    "prompt = {\n",
    "    \"role\": \"user\",\n",
    "    \"content\": content,\n",
    "}\n",
    "\n",
    "messages = [system_message]\n",
    "messages = get_completion_from_messages(prompt, messages)"
   ]
  },
  {
   "cell_type": "markdown",
   "id": "a82d47fc",
   "metadata": {
    "slideshow": {
     "slide_type": "slide"
    }
   },
   "source": [
    "## 4. Using Delimiters\n",
    "\n",
    "Delimiters can help to separate the content and examples from the task description. They can also make it possible to refer to specific parts of your prompt at a later point in the prompt.\n",
    "\n",
    "A delimiter can be any sequence of characters that usually wouldn’t appear together, for example:\n",
    "\n",
    "* \\>>>>>\n",
    "* \\====\n",
    "* \\####\n",
    "\n",
    "The number of characters that you use doesn’t matter too much, as long as you make sure that the sequence is relatively unique. Additionally, you can add labels just before or just after the delimiters:\n",
    "\n",
    "* \\START CONTENT>>>>> content <<<<<END CONTENT\n",
    "* \\==== START content END ====\n",
    "* \\#### START EXAMPLES examples #### END EXAMPLES\n",
    "\n",
    "\n",
    "\n",
    "\n",
    "\n",
    "Ensure delimiters are unique from the rest of your text, otherwise this will confuse the model. An example is given below:"
   ]
  },
  {
   "cell_type": "markdown",
   "id": "06c33e1f",
   "metadata": {},
   "source": [
    "As you can see, we get the output in JSON format. This is quite powerful: when we structure our output as we have done in the previous section, the model can easily convert this into a structured format as shown. Try a different type of format and see what happens."
   ]
  },
  {
   "cell_type": "code",
   "execution_count": 91,
   "id": "5a07d14f",
   "metadata": {},
   "outputs": [],
   "source": [
    "sentiment_list = f\"\"\"\n",
    "Happy,\n",
    "Sad,\n",
    "Disappointed,\n",
    "Neutral,\n",
    "Angry\n",
    "\"\"\"\n",
    "\n",
    "system_message = {\n",
    "    \"role\": \"system\",\n",
    "    \"content\": f\"\"\"\n",
    "    You are a Review Summariser. \\\n",
    "    Your job is to process reviews from customers, \\\n",
    "    and summarise them for analysis for the customer review team.\n",
    "\n",
    "    Group each review into the categories below, delimited by \\\n",
    "    ###:\n",
    "\n",
    "    ###\n",
    "    {sentiment_list}\n",
    "    ###\n",
    "\n",
    "    \"\"\",\n",
    "}"
   ]
  },
  {
   "cell_type": "code",
   "execution_count": null,
   "id": "3d262ccd",
   "metadata": {},
   "outputs": [],
   "source": []
  },
  {
   "cell_type": "code",
   "execution_count": null,
   "id": "0d5b0cc6",
   "metadata": {},
   "outputs": [],
   "source": []
  },
  {
   "cell_type": "code",
   "execution_count": null,
   "id": "f22a969b",
   "metadata": {},
   "outputs": [],
   "source": []
  },
  {
   "cell_type": "code",
   "execution_count": null,
   "id": "ae2f39c3",
   "metadata": {},
   "outputs": [],
   "source": []
  }
 ],
 "metadata": {
  "celltoolbar": "Slideshow",
  "kernelspec": {
   "display_name": "Python 3",
   "language": "python",
   "name": "python3"
  },
  "language_info": {
   "codemirror_mode": {
    "name": "ipython",
    "version": 3
   },
   "file_extension": ".py",
   "mimetype": "text/x-python",
   "name": "python",
   "nbconvert_exporter": "python",
   "pygments_lexer": "ipython3",
   "version": "3.9.18"
  }
 },
 "nbformat": 4,
 "nbformat_minor": 5
}
