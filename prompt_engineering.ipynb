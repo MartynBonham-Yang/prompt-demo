{
 "cells": [
  {
   "cell_type": "code",
   "execution_count": 1,
   "id": "650b4992",
   "metadata": {
    "slideshow": {
     "slide_type": "skip"
    }
   },
   "outputs": [
    {
     "data": {
      "text/html": [
       "\n",
       "                <script type=\"application/javascript\" id=\"jupyter_black\">\n",
       "                (function() {\n",
       "                    if (window.IPython === undefined) {\n",
       "                        return\n",
       "                    }\n",
       "                    var msg = \"WARNING: it looks like you might have loaded \" +\n",
       "                        \"jupyter_black in a non-lab notebook with \" +\n",
       "                        \"`is_lab=True`. Please double check, and if \" +\n",
       "                        \"loading with `%load_ext` please review the README!\"\n",
       "                    console.log(msg)\n",
       "                    alert(msg)\n",
       "                })()\n",
       "                </script>\n",
       "                "
      ],
      "text/plain": [
       "<IPython.core.display.HTML object>"
      ]
     },
     "metadata": {},
     "output_type": "display_data"
    }
   ],
   "source": [
    "%load_ext jupyter_black"
   ]
  },
  {
   "cell_type": "markdown",
   "id": "a3b75f2a",
   "metadata": {
    "slideshow": {
     "slide_type": "slide"
    }
   },
   "source": [
    "<div style=\"display: flex; align-items: center;\">\n",
    "  <div style=\"flex: 1;\">\n",
    "    <img src=\"images/notebook.gif\" alt=\"segment\" width=\"500\">\n",
    "  </div>\n",
    "  <div style=\"flex: 1;\">\n",
    "    <h2> Practical Prompt Engineering </h2>\n",
    "    <br>\n",
    "    <div>\n",
    "       In this tutorial, you’ll learn how to:\n",
    "       <ul>\n",
    "        <li>Apply prompt engineering techniques to practical, real-world examples\n",
    "        <li>Tap into the power of roles in messages to go beyond using singular role prompts\n",
    "        <li>Use numbered steps, delimiters, few-shot prompting and other techniques to improve your results\n",
    "        <li>Understand and use chain-of-thought prompting to add more context\n",
    "      </ul>\n",
    "    <div>\n",
    "\n",
    "  </div>\n",
    "</div>"
   ]
  },
  {
   "cell_type": "markdown",
   "id": "81a82fc7",
   "metadata": {
    "slideshow": {
     "slide_type": "slide"
    }
   },
   "source": [
    "First let's import all the libraries we're going to use..."
   ]
  },
  {
   "cell_type": "code",
   "execution_count": 2,
   "id": "443b222a-e27f-4aca-8fb5-7588ea7d3ab4",
   "metadata": {
    "slideshow": {
     "slide_type": "fragment"
    }
   },
   "outputs": [],
   "source": [
    "import os\n",
    "import openai"
   ]
  },
  {
   "cell_type": "markdown",
   "id": "6b099b72",
   "metadata": {
    "slideshow": {
     "slide_type": "fragment"
    }
   },
   "source": [
    "and retrieve our OpenAI API key..."
   ]
  },
  {
   "cell_type": "code",
   "execution_count": 64,
   "id": "767f9581",
   "metadata": {
    "slideshow": {
     "slide_type": "fragment"
    }
   },
   "outputs": [],
   "source": [
    "openai.api_key = os.environ.get(\"OPENAI_API_KEY\")"
   ]
  },
  {
   "cell_type": "markdown",
   "id": "80d07448",
   "metadata": {
    "slideshow": {
     "slide_type": "slide"
    }
   },
   "source": [
    "Chat completion API [documentation](https://platform.openai.com/docs/guides/gpt):"
   ]
  },
  {
   "cell_type": "code",
   "execution_count": 105,
   "id": "a5e91305",
   "metadata": {
    "slideshow": {
     "slide_type": "fragment"
    }
   },
   "outputs": [],
   "source": [
    "response = openai.ChatCompletion.create(\n",
    "    model=\"gpt-3.5-turbo\",\n",
    "    messages=[\n",
    "        {\"role\": \"system\", \"content\": \"You are a helpful assistant.\"},\n",
    "        {\"role\": \"user\", \"content\": \"Who won the world series in 2020?\"},\n",
    "    ],\n",
    ")"
   ]
  },
  {
   "cell_type": "markdown",
   "id": "291ecc8e",
   "metadata": {
    "slideshow": {
     "slide_type": "fragment"
    }
   },
   "source": [
    "<div class=\"alert alert-block alert-info\">\n",
    "\n",
    "<b>Tip: </b>The 3 types of roles you can use are: <br>\n",
    "\n",
    "<ul>\n",
    "<li> <b>System role:</b> Allows you to specify the way the model answers questions. <br>\n",
    "    Typically we can use it to determine what <b>role</b> the AI should play and how it should behave generally. <br> \n",
    "\n",
    "<li> <b>User role:</b> Equivalent to the queries made by the user\n",
    "\n",
    "<li> <b>Assistant role:</b> The model’s responses\n",
    "</ul>\n",
    "\n",
    "</div>"
   ]
  },
  {
   "cell_type": "markdown",
   "id": "c6d13529",
   "metadata": {
    "slideshow": {
     "slide_type": "slide"
    }
   },
   "source": [
    "Chat completions [response](https://platform.openai.com/docs/guides/gpt/chat-completions-response-format) format:"
   ]
  },
  {
   "cell_type": "code",
   "execution_count": 97,
   "id": "37489014",
   "metadata": {
    "slideshow": {
     "slide_type": "fragment"
    }
   },
   "outputs": [],
   "source": [
    "response = {\n",
    "    \"choices\": [\n",
    "        {\n",
    "            \"finish_reason\": \"stop\",\n",
    "            \"index\": 0,\n",
    "            \"message\": {\n",
    "                \"content\": \"The Los Angeles Dodgers won the World Series in 2020.\",\n",
    "                \"role\": \"assistant\",\n",
    "            },\n",
    "        }\n",
    "    ],\n",
    "    \"created\": 1677664795,\n",
    "    \"id\": \"chatcmpl-7QyqpwdfhqwajicIEznoc6Q47XAyW\",\n",
    "    \"model\": \"gpt-3.5-turbo-0613\",\n",
    "    \"object\": \"chat.completion\",\n",
    "    \"usage\": {\"completion_tokens\": 17, \"prompt_tokens\": 57, \"total_tokens\": 74},\n",
    "}"
   ]
  },
  {
   "cell_type": "markdown",
   "id": "1e850c96",
   "metadata": {
    "slideshow": {
     "slide_type": "fragment"
    }
   },
   "source": [
    "The assistant’s reply can be extracted with:"
   ]
  },
  {
   "cell_type": "code",
   "execution_count": 106,
   "id": "7643bda2",
   "metadata": {},
   "outputs": [],
   "source": [
    "content = response[\"choices\"][0][\"message\"][\"content\"]"
   ]
  },
  {
   "cell_type": "markdown",
   "id": "51424236",
   "metadata": {
    "slideshow": {
     "slide_type": "slide"
    }
   },
   "source": [
    "The next function allows us to send prompts to the model and get a response back. <br>\n",
    "\n",
    "We have specified the following model parameters:\n",
    "* Model: **GPT-3.5-turbo**\n",
    "* Temperature: **0**\n",
    "\n",
    "The function takes as inputs <u>prompt</u> and a <u>list of previous messages</u>, and returns a new list of messsages that include the prompt and the response from the model:"
   ]
  },
  {
   "cell_type": "code",
   "execution_count": null,
   "id": "d88d0a3b",
   "metadata": {
    "slideshow": {
     "slide_type": "slide"
    }
   },
   "outputs": [],
   "source": [
    "def get_completion_from_messages(\n",
    "    prompt,\n",
    "    messages,\n",
    "    model=\"gpt-3.5-turbo\",\n",
    "    temperature=0\n",
    "):\n",
    "\n",
    "    if not isinstance(messages, list):\n",
    "        messages = [messages]\n",
    "\n",
    "    messages.append(prompt)\n",
    "    \n",
    "    response = openai.ChatCompletion.create(\n",
    "        model=model,\n",
    "        messages=messages,\n",
    "        temperature=temperature\n",
    "    )\n",
    "    \n",
    "    print(response.choices[0].message[\"content\"])\n",
    "\n",
    "    messages.append(response.choices[0].message)\n",
    "    return messages"
   ]
  },
  {
   "cell_type": "markdown",
   "id": "e1c164c2",
   "metadata": {
    "slideshow": {
     "slide_type": "slide"
    }
   },
   "source": [
    "Let's test it!"
   ]
  },
  {
   "cell_type": "code",
   "execution_count": 125,
   "id": "33d07448",
   "metadata": {
    "scrolled": true,
    "slideshow": {
     "slide_type": "fragment"
    }
   },
   "outputs": [
    {
     "name": "stdout",
     "output_type": "stream",
     "text": [
      "Your name is Alex.\n"
     ]
    }
   ],
   "source": [
    "messages = [\n",
    "    {\"role\": \"user\", \"content\": \"My name is Alex\"},\n",
    "    {\n",
    "        \"role\": \"assistant\",\n",
    "        \"content\": \"Nice to meet you, Alex! How can I assist you today?\",\n",
    "    },\n",
    "]\n",
    "\n",
    "prompt = {\"role\": \"user\", \"content\": \"What is my name?\"}\n",
    "\n",
    "response = get_completion_from_messages(prompt, messages)"
   ]
  },
  {
   "cell_type": "code",
   "execution_count": 41,
   "id": "88bed3fb",
   "metadata": {
    "slideshow": {
     "slide_type": "skip"
    }
   },
   "outputs": [],
   "source": [
    "def fprint(output):\n",
    "    if isinstance(output, list):\n",
    "        for item in output:\n",
    "            if \"role\" in item and \"content\" in item:\n",
    "                role = item[\"role\"]\n",
    "                content = item[\"content\"].strip()\n",
    "\n",
    "                if role == \"user\":\n",
    "                    prefix = \"User\"\n",
    "                elif role == \"assistant\":\n",
    "                    prefix = \"Assistant\"\n",
    "                    content = content.replace(\n",
    "                        \"\\n\\n\", \"\\n\"\n",
    "                    )  # Replace double newlines with single newlines\n",
    "                else:\n",
    "                    prefix = role.capitalize()\n",
    "\n",
    "                formatted_item = f\"{prefix}: \\n {content}\\n\"\n",
    "                print(formatted_item)\n",
    "                print(\"---\" * 30)\n",
    "            else:\n",
    "                print(\"Invalid output format\")\n",
    "    else:\n",
    "        print(\"Invalid output format\")"
   ]
  },
  {
   "cell_type": "markdown",
   "id": "e25dc536",
   "metadata": {
    "slideshow": {
     "slide_type": "slide"
    }
   },
   "source": [
    "# Ways to Engineer your Prompts ⚙️\n",
    "\n",
    "We will now look at a few different examples of how you can improve your promtps to become the utlimate prompt engineer!\n",
    "\n",
    "Let's explore the following techniques:\n",
    "\n",
    "<ul>\n",
    "<li> <b>Zero-shot prompting</b> \n",
    "<li> <b>Role prompting</b> \n",
    "<li> <b>Detail & Specificity</b> \n",
    "<li> <b>Few-shot prompting</b> \n",
    "<li> <b>Using delimiters</b> \n",
    "</ul>"
   ]
  },
  {
   "cell_type": "markdown",
   "id": "dd73df7c",
   "metadata": {
    "slideshow": {
     "slide_type": "slide"
    }
   },
   "source": [
    "## 1. Zero-shot prompting 💬\n",
    "\n",
    "First, we have a list of reviews written below. Our task is to summarise them using ChatGPT. <br> Let's see what we can do."
   ]
  },
  {
   "cell_type": "code",
   "execution_count": 37,
   "id": "1ca127ac",
   "metadata": {
    "slideshow": {
     "slide_type": "fragment"
    }
   },
   "outputs": [],
   "source": [
    "reviews = [\n",
    "    (\n",
    "        \"Date: December 15, 2021; Username: John123; Review: I am absolutely delighted \\\n",
    "    with this savings product! The interest rates are fantastic, and it has helped \\\n",
    "    me grow my savings significantly. Highly recommend!\"\n",
    "    ),\n",
    "    (\n",
    "        \"Date: November 28, 2021; Username: Sarah77; Review: I must say, I am quite \\\n",
    "    disappointed with this savings product. The promised returns were not as \\\n",
    "    impressive as advertised, and the fees associated with it added up quickly. \\\n",
    "    Not worth it.\"\n",
    "    ),\n",
    "    (\n",
    "        \"Date: January 5, 2022; Username: AlexSmith; Review: My opinion? I'm rather \\\n",
    "    indifferent about this savings product. It's just like any other basic savings \\\n",
    "    account out there. Nothing special, but it does the job.\"\n",
    "    ),\n",
    "]"
   ]
  },
  {
   "cell_type": "code",
   "execution_count": 112,
   "id": "c6529e7f",
   "metadata": {
    "scrolled": true,
    "slideshow": {
     "slide_type": "slide"
    }
   },
   "outputs": [
    {
     "name": "stdout",
     "output_type": "stream",
     "text": [
      "Summarise these 3 reviews:['Date: December 15, 2021; Username: John123; Review: I am absolutely delighted     with this savings product! The interest rates are fantastic, and it has helped     me grow my savings significantly. Highly recommend!', 'Date: November 28, 2021; Username: Sarah77; Review: I must say, I am quite     disappointed with this savings product. The promised returns were not as     impressive as advertised, and the fees associated with it added up quickly.     Not worth it.', \"Date: January 5, 2022; Username: AlexSmith; Review: My opinion? I'm rather     indifferent about this savings product. It's just like any other basic savings     account out there. Nothing special, but it does the job.\"]\n"
     ]
    }
   ],
   "source": [
    "content = f\"\"\"Summarise these 3 reviews:{reviews}\"\"\"\n",
    "\n",
    "print(content)"
   ]
  },
  {
   "cell_type": "code",
   "execution_count": 48,
   "id": "0de44a70",
   "metadata": {
    "slideshow": {
     "slide_type": "fragment"
    }
   },
   "outputs": [
    {
     "name": "stdout",
     "output_type": "stream",
     "text": [
      "Review 1: John123 is extremely satisfied with the savings product, praising the fantastic interest rates and significant growth of their savings. Highly recommends it.\n",
      "\n",
      "Review 2: Sarah77 is disappointed with the savings product, as the promised returns were not as impressive as advertised and the associated fees accumulated quickly. Considers it not worth it.\n",
      "\n",
      "Review 3: AlexSmith expresses indifference towards the savings product, considering it similar to any other basic savings account. It is deemed as nothing special but gets the job done.\n"
     ]
    }
   ],
   "source": [
    "prompt = {\n",
    "    \"role\": \"user\",\n",
    "    \"content\": content,\n",
    "}\n",
    "\n",
    "messages = get_completion_from_messages(prompt, [])"
   ]
  },
  {
   "cell_type": "markdown",
   "id": "ff0459a9",
   "metadata": {
    "slideshow": {
     "slide_type": "slide"
    }
   },
   "source": [
    "Great! It provided a summary of each review.\n",
    "\n",
    "What we just did is call **zero-shot prompting**, which is just a fancy way of saying that you’re asking a normal question or simply describing a task.\n",
    "\n",
    "But it's safe to say this is by no means useful enough to be a product yet. \n",
    "\n",
    "Let's now dive into the other prompt engineering techniques to improve our results. "
   ]
  },
  {
   "cell_type": "markdown",
   "id": "ac2407b2",
   "metadata": {
    "slideshow": {
     "slide_type": "slide"
    }
   },
   "source": [
    "## 2. Role Prompting 🤖\n",
    "\n",
    "In the next example we are setting the **role** of the model via the system message. \n",
    "\n",
    "This is known as \"Role Prompting\", and is a general practice to help set the tone and context for the model's responses."
   ]
  },
  {
   "cell_type": "code",
   "execution_count": 113,
   "id": "1d77968b",
   "metadata": {
    "slideshow": {
     "slide_type": "fragment"
    }
   },
   "outputs": [],
   "source": [
    "system_message = {\n",
    "    \"role\": \"system\",\n",
    "    \"content\": (\n",
    "        \"\"\"\n",
    "        You are a Review Summariser.\n",
    "        Your job is to process reviews from customers,\n",
    "        and summarise them for analysis for the customer review team.\n",
    "        \"\"\"\n",
    "    ),\n",
    "}\n",
    "\n",
    "messages = [system_message]"
   ]
  },
  {
   "cell_type": "code",
   "execution_count": 114,
   "id": "95fc361c",
   "metadata": {
    "slideshow": {
     "slide_type": "slide"
    }
   },
   "outputs": [
    {
     "name": "stdout",
     "output_type": "stream",
     "text": [
      "Review 1: John123 is extremely satisfied with the savings product. They highlight the fantastic interest rates and how it has significantly helped them grow their savings. They highly recommend it.\n",
      "\n",
      "Review 2: Sarah77 is disappointed with the savings product. They mention that the promised returns were not as impressive as advertised and the associated fees added up quickly. They believe it is not worth it.\n",
      "\n",
      "Review 3: AlexSmith is indifferent about the savings product. They state that it is just like any other basic savings account and nothing special. However, they mention that it does the job.\n",
      "\n",
      "Overall, the reviews are mixed. While John123 highly recommends the product, Sarah77 is disappointed with it. AlexSmith is neutral and finds it to be an average savings account.\n"
     ]
    }
   ],
   "source": [
    "prompt = {\n",
    "    \"role\": \"user\",\n",
    "    \"content\": content,\n",
    "}\n",
    "\n",
    "messages = get_completion_from_messages(prompt, messages)"
   ]
  },
  {
   "cell_type": "markdown",
   "id": "7b0013f5",
   "metadata": {
    "slideshow": {
     "slide_type": "fragment"
    }
   },
   "source": [
    "<div class=\"alert alert-block alert-success\">\n",
    "\n",
    "⚠️ By using a role prompt via the system message, the summary is more structured and much clearer to read for the user.\n",
    "    \n",
    "</div>"
   ]
  },
  {
   "cell_type": "markdown",
   "id": "6c955566",
   "metadata": {
    "slideshow": {
     "slide_type": "slide"
    }
   },
   "source": [
    "## 3. Detail and Specificity 🔍\n",
    "\n",
    "It is important that when you prompt, you are specific and as clear as possible.\n",
    "\n",
    "Note that clear ≠ short: the more detail you add, the better the model will understand how you want it to behave.\n",
    "\n",
    "In the next example, we'll try to add a category for each review: positive, neutral or negative:"
   ]
  },
  {
   "cell_type": "code",
   "execution_count": 115,
   "id": "3f15ffb8",
   "metadata": {
    "slideshow": {
     "slide_type": "slide"
    }
   },
   "outputs": [
    {
     "name": "stdout",
     "output_type": "stream",
     "text": [
      "Review 1: Positive\n",
      "Review 2: Bad\n",
      "Review 3: Neutral\n"
     ]
    }
   ],
   "source": [
    "system_message = {\n",
    "    \"role\": \"system\",\n",
    "    \"content\": \"\"\"\n",
    "    You are a Review Summariser. \\\n",
    "    Your job is to process reviews from customers, \\\n",
    "    and summarise them for analysis for the customer review team.\n",
    "    Categorise each review as positive, neutral, or bad.\n",
    "    \"\"\",\n",
    "}\n",
    "\n",
    "prompt = {\"role\": \"user\", \"content\": content}\n",
    "\n",
    "messages = [system_message]\n",
    "messages = get_completion_from_messages(prompt, messages)"
   ]
  },
  {
   "cell_type": "markdown",
   "id": "02ccea37",
   "metadata": {
    "slideshow": {
     "slide_type": "fragment"
    }
   },
   "source": [
    "As you can see, the model has only output the categories, and we're now missing all the other information. \n",
    "\n",
    "Let's be a bit more specific:"
   ]
  },
  {
   "cell_type": "code",
   "execution_count": 116,
   "id": "951bd0f1",
   "metadata": {
    "scrolled": true,
    "slideshow": {
     "slide_type": "slide"
    }
   },
   "outputs": [
    {
     "name": "stdout",
     "output_type": "stream",
     "text": [
      "Review 1:\n",
      "- Name: John123\n",
      "- Date: December 15, 2021\n",
      "- Sentiment: Positive\n",
      "- Summary: John123 is delighted with the savings product, praising the fantastic interest rates and significant growth of savings.\n",
      "\n",
      "Review 2:\n",
      "- Name: Sarah77\n",
      "- Date: November 28, 2021\n",
      "- Sentiment: Negative\n",
      "- Summary: Sarah77 is disappointed with the savings product, mentioning that the promised returns were not as impressive as advertised and the associated fees added up quickly.\n",
      "\n",
      "Review 3:\n",
      "- Name: AlexSmith\n",
      "- Date: January 5, 2022\n",
      "- Sentiment: Neutral\n",
      "- Summary: AlexSmith is indifferent about the savings product, stating that it is similar to any other basic savings account and nothing special, but it gets the job done.\n"
     ]
    }
   ],
   "source": [
    "system_message = {\n",
    "    \"role\": \"system\",\n",
    "    \"content\": \"\"\"\n",
    "    You are a Review Summariser. Your job is to process reviews \n",
    "    from customers and summarise them for analysis for the customer review team.\n",
    "\n",
    "    For each review output the name and date. \n",
    "    Also label each review as either 'Positive','Neutral', or 'Negative'.\n",
    "    Then provide a summary of key points in a single sentence.\n",
    "    \"\"\",\n",
    "}\n",
    "\n",
    "prompt = {\"role\": \"user\", \"content\": content}\n",
    "\n",
    "messages = [system_message]\n",
    "messages = get_completion_from_messages(prompt, messages)"
   ]
  },
  {
   "cell_type": "markdown",
   "id": "32b7fdf4",
   "metadata": {
    "slideshow": {
     "slide_type": "slide"
    }
   },
   "source": [
    "Great! We now have all the information displayed appropriately for each review. It's even structured the data for us in a list! \n",
    "\n",
    "Let's see if we can further increase out specificity by numbering the steps as well as specifying the format that we want the model to use for our output:"
   ]
  },
  {
   "cell_type": "code",
   "execution_count": 103,
   "id": "497f5848",
   "metadata": {
    "slideshow": {
     "slide_type": "fragment"
    }
   },
   "outputs": [],
   "source": [
    "system_message = {\n",
    "    \"role\": \"system\",\n",
    "    \"content\": \"\"\"\n",
    "    You are a Review Summariser. Your job is to process reviews \n",
    "    from customers and summarise them for analysis for the customer review team:\n",
    "\n",
    "    1. For each review output the name and date. \n",
    "    2. Also label each review as either 'Positive','Neutral', or 'Negative'.\n",
    "    3. Provide a summary of key points in a single sentence.\n",
    "\n",
    "    Output: When outputting this information, use the following structure:\n",
    "    - [Username]: name of customer who made review\n",
    "    - [Date]: date of review, written as dd/mm/yyyy\n",
    "    - [Sentiment]: review sentiment\n",
    "    - [Key points]: key points of each review in one\n",
    "    \"\"\",\n",
    "}"
   ]
  },
  {
   "cell_type": "code",
   "execution_count": 117,
   "id": "5a567a48",
   "metadata": {
    "scrolled": true,
    "slideshow": {
     "slide_type": "slide"
    }
   },
   "outputs": [
    {
     "name": "stdout",
     "output_type": "stream",
     "text": [
      "{\n",
      "  \"reviews\": [\n",
      "    {\n",
      "      \"name\": \"John123\",\n",
      "      \"date\": \"December 15, 2021\",\n",
      "      \"sentiment\": \"Positive\",\n",
      "      \"summary\": \"Delighted with the savings product, fantastic interest rates, highly recommend.\"\n",
      "    },\n",
      "    {\n",
      "      \"name\": \"Sarah77\",\n",
      "      \"date\": \"November 28, 2021\",\n",
      "      \"sentiment\": \"Negative\",\n",
      "      \"summary\": \"Disappointed with the savings product, returns not as advertised, high fees.\"\n",
      "    },\n",
      "    {\n",
      "      \"name\": \"AlexSmith\",\n",
      "      \"date\": \"January 5, 2022\",\n",
      "      \"sentiment\": \"Neutral\",\n",
      "      \"summary\": \"Indifferent about the savings product, similar to other basic savings accounts.\"\n",
      "    }\n",
      "  ]\n",
      "}\n"
     ]
    }
   ],
   "source": [
    "content = f\"\"\"Summarise these 3 reviews:{reviews} and return your response as a JSON\"\"\"\n",
    "\n",
    "prompt = {\n",
    "    \"role\": \"user\",\n",
    "    \"content\": content,\n",
    "}\n",
    "\n",
    "messages = [system_message]\n",
    "messages = get_completion_from_messages(prompt, messages)"
   ]
  },
  {
   "cell_type": "markdown",
   "id": "b1ca9c2f",
   "metadata": {
    "slideshow": {
     "slide_type": "slide"
    }
   },
   "source": [
    "As you can see, we get the output in JSON format. \n",
    "\n",
    "This is quite powerful: when we structure our output as we have done in the previous section, the model can easily convert this into a structured format as shown."
   ]
  },
  {
   "cell_type": "markdown",
   "id": "a5f3660c",
   "metadata": {
    "slideshow": {
     "slide_type": "slide"
    }
   },
   "source": [
    "## 4. Few-shot prompting 📄\n",
    "\n",
    "Few-shot prompting is a prompt engineering technique where you provide example tasks and their expected outputs in your prompt. \n",
    "\n",
    "So, instead of just describing the task you also provide examples:"
   ]
  },
  {
   "cell_type": "code",
   "execution_count": 120,
   "id": "d363688e",
   "metadata": {
    "slideshow": {
     "slide_type": "slide"
    }
   },
   "outputs": [],
   "source": [
    "system_message = {\n",
    "    \"role\": \"system\",\n",
    "    \"content\": \"\"\"\n",
    "    You are a Review Summariser. Your job is to process reviews \n",
    "    from customers and summarise them for analysis for the customer review team.\n",
    "\n",
    "    For each review output the name and date. \n",
    "    Also label each review as either 'Positive','Neutral', or 'Negative'.\n",
    "    Then provide a summary of key points in a single sentence.\n",
    "    \n",
    "    Example 1:\n",
    "    \"Date: April 1, 2022\\nUsername: JaneDoe\\nReview: I'm really not happy with this savings product. \\\n",
    "    The interest rates are lower than promised and the customer service is lacking. I wouldn't recommend it.\",\n",
    "\n",
    "    Output 1:\n",
    "    - username: \"JaneDoe\"\n",
    "    - review_date: \"01/04/2022\"\n",
    "    - sentiment: \"negative\"\n",
    "    - key_points: \"Lower interest rates than promised, lacking customer service\"\n",
    "    - response \"Hi JaneDoe. We're gutted to hear that you're disappointed by our product. Could you share your \\\n",
    "    thoughts with our customer feedback team? We want to make sure this product is great, and your feedback would \\\n",
    "    help us massively with that.\"\n",
    "    \"\"\",\n",
    "}"
   ]
  },
  {
   "cell_type": "code",
   "execution_count": 121,
   "id": "5184aa4d",
   "metadata": {
    "slideshow": {
     "slide_type": "slide"
    }
   },
   "outputs": [
    {
     "name": "stdout",
     "output_type": "stream",
     "text": [
      "- Review 1:\n",
      "  - Username: John123\n",
      "  - Review Date: 15/12/2021\n",
      "  - Sentiment: Positive\n",
      "  - Key Points: Fantastic interest rates, helped grow savings significantly\n",
      "  - Response: Hi John123. We're thrilled to hear that you're delighted with our savings product! Thank you for recommending it. If you have any suggestions for improvement, please let us know.\n",
      "\n",
      "- Review 2:\n",
      "  - Username: Sarah77\n",
      "  - Review Date: 28/11/2021\n",
      "  - Sentiment: Negative\n",
      "  - Key Points: Promised returns not as advertised, fees added up quickly\n",
      "  - Response: Hi Sarah77. We're sorry to hear that you're disappointed with our savings product. We would appreciate it if you could provide more details about your experience so we can address your concerns.\n",
      "\n",
      "- Review 3:\n",
      "  - Username: AlexSmith\n",
      "  - Review Date: 05/01/2022\n",
      "  - Sentiment: Neutral\n",
      "  - Key Points: Indifferent, basic savings account\n",
      "  - Response: Hi AlexSmith. Thank you for your feedback. We understand that our savings product may not stand out compared to others. If you have any suggestions on how we can improve, please let us know.\n"
     ]
    }
   ],
   "source": [
    "content = f\"\"\"Summarise these 3 reviews:{reviews}\"\"\"\n",
    "\n",
    "prompt = {\"role\": \"user\", \"content\": content}\n",
    "\n",
    "messages = [system_message]\n",
    "messages = get_completion_from_messages(prompt, messages)"
   ]
  },
  {
   "cell_type": "markdown",
   "id": "477ffb0c",
   "metadata": {
    "slideshow": {
     "slide_type": "slide"
    }
   },
   "source": [
    "## 5. Using Delimiters 🔖\n",
    "\n",
    "Delimiters can help to separate the content and examples from the task description. They can also make it possible to refer to specific parts of your prompt at a later point in the prompt. A delimiter can be any sequence of characters that usually wouldn’t appear together, for example:\n",
    "\n",
    "* \\>>>>>\n",
    "* \\====\n",
    "* \\####"
   ]
  },
  {
   "cell_type": "markdown",
   "id": "a4139227",
   "metadata": {
    "slideshow": {
     "slide_type": "fragment"
    }
   },
   "source": [
    "The number of characters that you use doesn’t matter too much, as long as you make sure that the sequence is relatively unique, otherwise this might confuse the model. Additionally, you can add labels just before or just after the delimiters:\n",
    "\n",
    "* START CONTENT>>>>> content <<<<<END CONTENT\n",
    "* \\==== START content END ====\n",
    "* \\#### START EXAMPLES examples #### END EXAMPLES"
   ]
  },
  {
   "cell_type": "code",
   "execution_count": 122,
   "id": "5cc68449",
   "metadata": {
    "slideshow": {
     "slide_type": "slide"
    }
   },
   "outputs": [],
   "source": [
    "system_message = {\n",
    "    \"role\": \"system\",\n",
    "    \"content\": \"\"\"\n",
    "    You are a Review Summariser. Your job is to process reviews \n",
    "    from customers and summarise them for analysis for the customer review team.\n",
    "\n",
    "    For each review output the name and date. \n",
    "    Also label each review as either 'Positive','Neutral', or 'Negative'.\n",
    "    Then provide a summary of key points in a single sentence.\n",
    "    \n",
    "    #### START EXAMPLES\n",
    "\n",
    "    ------ Example Inputs ------\n",
    "    \"Date: April 1, 2022\\nUsername: JaneDoe\\nReview: I'm really not happy with this savings product. \\\n",
    "    The interest rates are lower than promised and the customer service is lacking. I wouldn't recommend it.\",\n",
    "\n",
    "    ------ Example Outputs ------\n",
    "    - username: \"JaneDoe\"\n",
    "    - review_date: \"01/04/2022\"\n",
    "    - sentiment: \"negative\"\n",
    "    - key_points: \"Lower interest rates than promised, lacking customer service\"\n",
    "    - response \"Hi JaneDoe. We're gutted to hear that you're disappointed by our product. Could you share your \\\n",
    "    thoughts with our customer feedback team? We want to make sure this product is great, and your feedback would \\\n",
    "    help us massively with that.\"\n",
    "    \n",
    "    #### END EXAMPLES\n",
    "\n",
    "    \"\"\",\n",
    "}"
   ]
  },
  {
   "cell_type": "code",
   "execution_count": null,
   "id": "00847f97",
   "metadata": {
    "slideshow": {
     "slide_type": "slide"
    }
   },
   "outputs": [],
   "source": [
    "content = f\"\"\"Summarise these 3 reviews:{reviews}\"\"\"\n",
    "\n",
    "prompt = {\"role\": \"user\", \"content\": content}\n",
    "\n",
    "messages = [system_message]\n",
    "messages = get_completion_from_messages(prompt, messages)"
   ]
  },
  {
   "cell_type": "markdown",
   "id": "16fb2d64",
   "metadata": {},
   "source": [
    "# Chain-of-thought prompting (CoT) 💭\n",
    "\n",
    "To apply CoT, you prompt the model to generate intermediate results that then become part of the prompt in a second request. The increased context makes it more likely that the model will arrive at a useful output.\n",
    "\n",
    "The smallest form of CoT prompting is zero-shot CoT, where you literally ask the model to think step by step. This approach yields impressive results for mathematical tasks that LLMs otherwise often solve incorrectly.\n",
    "\n",
    "Chain-of-thought operations are technically split into two stages:\n",
    "\n",
    "Reasoning extraction, where the model generates the increased context\n",
    "Answer extraction, where the model uses the increased context to generate the answer"
   ]
  },
  {
   "cell_type": "markdown",
   "id": "e1caed84",
   "metadata": {
    "slideshow": {
     "slide_type": "slide"
    }
   },
   "source": [
    "# Summary\n",
    "\n",
    "We will now look at a few different examples of how you can improve your promtps to become the utlimate prompt engineer!\n",
    "\n",
    "Let's explore the following techniques:\n",
    "\n",
    "<ul>\n",
    "<li> <b>Zero-shot prompting:</b> Asking the language model a normal question without any additional context\n",
    "<li> <b>Role prompting:</b> Specifying how the model will answer the questions\n",
    "<li> <b>Detail & Specificity:</b> Breaking down a complex prompt into a series of small, specific steps\n",
    "<li> <b>Few-shot prompting:</b> Conditioning the model on a few examples to boost its performance\n",
    "<li> <b>Using delimiters:</b> Adding special tokens or phrases to provide structure and instructions to the model\n",
    "</ul>"
   ]
  },
  {
   "cell_type": "code",
   "execution_count": null,
   "id": "76c6a37d",
   "metadata": {},
   "outputs": [],
   "source": []
  },
  {
   "cell_type": "code",
   "execution_count": null,
   "id": "7f2a505c",
   "metadata": {},
   "outputs": [],
   "source": []
  },
  {
   "cell_type": "code",
   "execution_count": null,
   "id": "d9435d97",
   "metadata": {},
   "outputs": [],
   "source": []
  }
 ],
 "metadata": {
  "celltoolbar": "Slideshow",
  "kernelspec": {
   "display_name": "Python 3",
   "language": "python",
   "name": "python3"
  },
  "language_info": {
   "codemirror_mode": {
    "name": "ipython",
    "version": 3
   },
   "file_extension": ".py",
   "mimetype": "text/x-python",
   "name": "python",
   "nbconvert_exporter": "python",
   "pygments_lexer": "ipython3",
   "version": "3.9.18"
  }
 },
 "nbformat": 4,
 "nbformat_minor": 5
}
