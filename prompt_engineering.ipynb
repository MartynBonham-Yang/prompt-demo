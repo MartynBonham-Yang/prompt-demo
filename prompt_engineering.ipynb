{
 "cells": [
  {
   "cell_type": "markdown",
   "id": "81a82fc7",
   "metadata": {
    "slideshow": {
     "slide_type": "slide"
    }
   },
   "source": [
    "First let's import all the libraries we're going to use..."
   ]
  },
  {
   "cell_type": "code",
   "execution_count": 1,
   "id": "443b222a-e27f-4aca-8fb5-7588ea7d3ab4",
   "metadata": {
    "slideshow": {
     "slide_type": "fragment"
    }
   },
   "outputs": [],
   "source": [
    "import os\n",
    "import openai"
   ]
  },
  {
   "cell_type": "markdown",
   "id": "6b099b72",
   "metadata": {
    "slideshow": {
     "slide_type": "fragment"
    }
   },
   "source": [
    "And retrieve our OpenAI API key"
   ]
  },
  {
   "cell_type": "markdown",
   "id": "c3f8c153-be05-44ea-9f84-7c46fc83aaf0",
   "metadata": {
    "slideshow": {
     "slide_type": "subslide"
    }
   },
   "source": [
    "This function has been set up to allow us to send promnpts to the model. See that we have speicified the following model parameters:\n",
    "\n",
    "* Model: GPT-3.5-turbo\n",
    "* Temperature: 0\n",
    "\n",
    "The function takes a prompt and a list of previous messages, and returns a list of new messsages with the prompt and the response from the model"
   ]
  },
  {
   "cell_type": "code",
   "execution_count": null,
   "id": "2f371506-be92-41b8-8b13-833da83d4760",
   "metadata": {},
   "outputs": [],
   "source": []
  }
 ],
 "metadata": {
  "celltoolbar": "Slideshow",
  "kernelspec": {
   "display_name": "Python 3",
   "language": "python",
   "name": "python3"
  },
  "language_info": {
   "codemirror_mode": {
    "name": "ipython",
    "version": 3
   },
   "file_extension": ".py",
   "mimetype": "text/x-python",
   "name": "python",
   "nbconvert_exporter": "python",
   "pygments_lexer": "ipython3",
   "version": "3.9.18"
  }
 },
 "nbformat": 4,
 "nbformat_minor": 5
}
