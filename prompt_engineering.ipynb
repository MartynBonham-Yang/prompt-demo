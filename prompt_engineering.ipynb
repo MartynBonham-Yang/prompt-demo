{
 "cells": [
  {
   "cell_type": "code",
   "execution_count": 1,
   "id": "51ccc406",
   "metadata": {
    "slideshow": {
     "slide_type": "skip"
    }
   },
   "outputs": [
    {
     "data": {
      "text/html": [
       "\n",
       "                <script type=\"application/javascript\" id=\"jupyter_black\">\n",
       "                (function() {\n",
       "                    if (window.IPython === undefined) {\n",
       "                        return\n",
       "                    }\n",
       "                    var msg = \"WARNING: it looks like you might have loaded \" +\n",
       "                        \"jupyter_black in a non-lab notebook with \" +\n",
       "                        \"`is_lab=True`. Please double check, and if \" +\n",
       "                        \"loading with `%load_ext` please review the README!\"\n",
       "                    console.log(msg)\n",
       "                    alert(msg)\n",
       "                })()\n",
       "                </script>\n",
       "                "
      ],
      "text/plain": [
       "<IPython.core.display.HTML object>"
      ]
     },
     "metadata": {},
     "output_type": "display_data"
    }
   ],
   "source": [
    "%load_ext jupyter_black"
   ]
  },
  {
   "cell_type": "markdown",
   "id": "19f77a7b",
   "metadata": {
    "slideshow": {
     "slide_type": "slide"
    }
   },
   "source": [
    "<div style=\"display: flex; align-items: center;\">\n",
    "  <div style=\"flex: 1;\">\n",
    "    <img src=\"images/notebook.gif\" alt=\"segment\" width=\"500\">\n",
    "  </div>\n",
    "  <div style=\"flex: 1;\">\n",
    "    <h2> Practical Prompt Engineering </h2>\n",
    "    <br>\n",
    "    <div>\n",
    "       In this tutorial, you’ll learn how to:\n",
    "       <ul>\n",
    "        <li>Apply prompt engineering techniques to practical, real-world examples\n",
    "        <li>Tap into the power of roles in messages to go beyond using singular role prompts\n",
    "        <li>Use numbered steps, delimiters, few-shot prompting and other techniques to improve your results\n",
    "        <li>Understand and use chain-of-thought prompting to add more context\n",
    "      </ul>\n",
    "    <div>\n",
    "\n",
    "  </div>\n",
    "</div>"
   ]
  },
  {
   "cell_type": "markdown",
   "id": "81a82fc7",
   "metadata": {
    "slideshow": {
     "slide_type": "slide"
    }
   },
   "source": [
    "First let's import all the libraries we're going to use..."
   ]
  },
  {
   "cell_type": "code",
   "execution_count": 2,
   "id": "443b222a-e27f-4aca-8fb5-7588ea7d3ab4",
   "metadata": {
    "slideshow": {
     "slide_type": "fragment"
    }
   },
   "outputs": [],
   "source": [
    "import os\n",
    "import openai"
   ]
  },
  {
   "cell_type": "markdown",
   "id": "6b099b72",
   "metadata": {
    "slideshow": {
     "slide_type": "fragment"
    }
   },
   "source": [
    "and retrieve our OpenAI API key..."
   ]
  },
  {
   "cell_type": "code",
   "execution_count": 64,
   "id": "767f9581",
   "metadata": {
    "slideshow": {
     "slide_type": "fragment"
    }
   },
   "outputs": [],
   "source": [
    "openai.api_key = os.environ.get(\"OPENAI_API_KEY\")"
   ]
  },
  {
   "cell_type": "markdown",
   "id": "c3f8c153-be05-44ea-9f84-7c46fc83aaf0",
   "metadata": {
    "slideshow": {
     "slide_type": "slide"
    }
   },
   "source": [
    "The next function allows us to send prompts to the model and get a response back. <br>\n",
    "\n",
    "We have specified the following model parameters:\n",
    "* Model: **GPT-3.5-turbo**\n",
    "* Temperature: **0**\n",
    "\n",
    "The function takes as inputs <u>prompt</u> and a <u>list of previous messages</u>, and returns a new list of messsages that include the prompt and the response from the model:"
   ]
  },
  {
   "cell_type": "code",
   "execution_count": null,
   "id": "2f371506-be92-41b8-8b13-833da83d4760",
   "metadata": {
    "slideshow": {
     "slide_type": "slide"
    }
   },
   "outputs": [],
   "source": [
    "def get_completion_from_messages(\n",
    "    prompt,\n",
    "    messages,\n",
    "    model=\"gpt-3.5-turbo\",\n",
    "    temperature=0\n",
    "):\n",
    "\n",
    "    if not isinstance(messages, list):\n",
    "        messages = [messages]\n",
    "\n",
    "    messages.append(prompt)\n",
    "    \n",
    "    response = openai.ChatCompletion.create(\n",
    "        model=model,\n",
    "        messages=messages,\n",
    "        temperature=temperature\n",
    "    )\n",
    "    \n",
    "    print(response.choices[0].message[\"content\"])\n",
    "\n",
    "    messages.append(response.choices[0].message)\n",
    "    return messages"
   ]
  },
  {
   "cell_type": "markdown",
   "id": "7148696a",
   "metadata": {
    "slideshow": {
     "slide_type": "slide"
    }
   },
   "source": [
    "Let's test it!"
   ]
  },
  {
   "cell_type": "code",
   "execution_count": null,
   "id": "85d41963",
   "metadata": {
    "scrolled": true,
    "slideshow": {
     "slide_type": "fragment"
    }
   },
   "outputs": [],
   "source": [
    "messages = [\n",
    "    {\"role\": \"user\", \"content\": \"My name is Alex\"},\n",
    "]\n",
    "\n",
    "prompt = {\"role\": \"user\", \"content\": \"What is my name?\"}\n",
    "\n",
    "response = get_completion_from_messages(prompt, messages)"
   ]
  },
  {
   "cell_type": "code",
   "execution_count": 41,
   "id": "d6ec1ada",
   "metadata": {
    "slideshow": {
     "slide_type": "skip"
    }
   },
   "outputs": [],
   "source": [
    "def fprint(output):\n",
    "    if isinstance(output, list):\n",
    "        for item in output:\n",
    "            if \"role\" in item and \"content\" in item:\n",
    "                role = item[\"role\"]\n",
    "                content = item[\"content\"].strip()\n",
    "\n",
    "                if role == \"user\":\n",
    "                    prefix = \"User\"\n",
    "                elif role == \"assistant\":\n",
    "                    prefix = \"Assistant\"\n",
    "                    content = content.replace(\n",
    "                        \"\\n\\n\", \"\\n\"\n",
    "                    )  # Replace double newlines with single newlines\n",
    "                else:\n",
    "                    prefix = role.capitalize()\n",
    "\n",
    "                formatted_item = f\"{prefix}: \\n {content}\\n\"\n",
    "                print(formatted_item)\n",
    "                print(\"---\" * 30)\n",
    "            else:\n",
    "                print(\"Invalid output format\")\n",
    "    else:\n",
    "        print(\"Invalid output format\")"
   ]
  },
  {
   "cell_type": "markdown",
   "id": "6348fdcf",
   "metadata": {
    "slideshow": {
     "slide_type": "slide"
    }
   },
   "source": [
    "# Ways to Engineer your Prompts\n",
    "\n",
    "We will now look at a few different examples of how you can improve your promtps to become the utlimate prompt engineer!\n",
    "\n",
    "First, we have a list of reviews written below. Our task is to summarise them using ChatGPT. <br> Let's see what we can do:"
   ]
  },
  {
   "cell_type": "code",
   "execution_count": 37,
   "id": "51e4190a",
   "metadata": {
    "slideshow": {
     "slide_type": "fragment"
    }
   },
   "outputs": [],
   "source": [
    "reviews = [\n",
    "    (\n",
    "        \"Date: December 15, 2021; Username: John123; Review: I am absolutely delighted \\\n",
    "    with this savings product! The interest rates are fantastic, and it has helped \\\n",
    "    me grow my savings significantly. Highly recommend!\"\n",
    "    ),\n",
    "    (\n",
    "        \"Date: November 28, 2021; Username: Sarah77; Review: I must say, I am quite \\\n",
    "    disappointed with this savings product. The promised returns were not as \\\n",
    "    impressive as advertised, and the fees associated with it added up quickly. \\\n",
    "    Not worth it.\"\n",
    "    ),\n",
    "    (\n",
    "        \"Date: January 5, 2022; Username: AlexSmith; Review: My opinion? I'm rather \\\n",
    "    indifferent about this savings product. It's just like any other basic savings \\\n",
    "    account out there. Nothing special, but it does the job.\"\n",
    "    ),\n",
    "]"
   ]
  },
  {
   "cell_type": "code",
   "execution_count": 76,
   "id": "73008698",
   "metadata": {
    "scrolled": true,
    "slideshow": {
     "slide_type": "slide"
    }
   },
   "outputs": [
    {
     "name": "stdout",
     "output_type": "stream",
     "text": [
      "Summarise these 3 reviews:['Date: December 15, 2021; Username: John123; Review: I am absolutely delighted     with this savings product! The interest rates are fantastic, and it has helped     me grow my savings significantly. Highly recommend!', 'Date: November 28, 2021; Username: Sarah77; Review: I must say, I am quite     disappointed with this savings product. The promised returns were not as     impressive as advertised, and the fees associated with it added up quickly.     Not worth it.', \"Date: January 5, 2022; Username: AlexSmith; Review: My opinion? I'm rather     indifferent about this savings product. It's just like any other basic savings     account out there. Nothing special, but it does the job.\"]\n"
     ]
    }
   ],
   "source": [
    "content = f\"\"\"Summarise these 3 reviews:{reviews}\"\"\"\n",
    "\n",
    "print(content)"
   ]
  },
  {
   "cell_type": "code",
   "execution_count": 48,
   "id": "9b593dc9",
   "metadata": {
    "slideshow": {
     "slide_type": "fragment"
    }
   },
   "outputs": [
    {
     "name": "stdout",
     "output_type": "stream",
     "text": [
      "Review 1: John123 is extremely satisfied with the savings product, praising the fantastic interest rates and significant growth of their savings. Highly recommends it.\n",
      "\n",
      "Review 2: Sarah77 is disappointed with the savings product, as the promised returns were not as impressive as advertised and the associated fees accumulated quickly. Considers it not worth it.\n",
      "\n",
      "Review 3: AlexSmith expresses indifference towards the savings product, considering it similar to any other basic savings account. It is deemed as nothing special but gets the job done.\n"
     ]
    }
   ],
   "source": [
    "prompt = {\n",
    "    \"role\": \"user\",\n",
    "    \"content\": content,\n",
    "}\n",
    "\n",
    "messages = get_completion_from_messages(prompt, [])"
   ]
  },
  {
   "cell_type": "markdown",
   "id": "b50c1a8b",
   "metadata": {
    "slideshow": {
     "slide_type": "slide"
    }
   },
   "source": [
    "Great! It provided a summary of each review.\n",
    "\n",
    "But it's safe to say this is by no means useful enough to be a product yet. \n",
    "\n",
    "Let's see what we can do with some simple prompt engineering."
   ]
  },
  {
   "cell_type": "markdown",
   "id": "53312e4a",
   "metadata": {
    "slideshow": {
     "slide_type": "slide"
    }
   },
   "source": [
    "## System Role\n",
    "\n",
    "The system message is a behind-the-scenes prompt sent to the model before the user begins querying. <br>\n",
    "Typically we can use it to determine what **role** the AI should play and how it should behave generally. <br> \n",
    "For example, if you are creating a Pizza Ordering Chatbot, then you can specify that in the system message."
   ]
  },
  {
   "cell_type": "markdown",
   "id": "63305523",
   "metadata": {
    "slideshow": {
     "slide_type": "fragment"
    }
   },
   "source": [
    "<div class=\"alert alert-block alert-info\">\n",
    "\n",
    "<b>Tip: </b>The 3 types of roles you can use are: <br>\n",
    "\n",
    "<ul>\n",
    "<li> System role: Allows you to specify the way the model answers questions. <br>\n",
    "                 Classic example: “You are a helpful assistant.”\n",
    "\n",
    "<li> User role: Equivalent to the queries made by the user\n",
    "\n",
    "<li> Assistant role: The model’s responses\n",
    "</ul>\n",
    "\n",
    "</div>"
   ]
  },
  {
   "cell_type": "markdown",
   "id": "4801b333",
   "metadata": {
    "slideshow": {
     "slide_type": "slide"
    }
   },
   "source": [
    "## Role Prompting 🤖\n",
    "\n",
    "In the next example we are setting the **role** of the model via the system message. This is known as \"Role Prompting\", and is a general practice to help set the tone and context for the model's responses."
   ]
  },
  {
   "cell_type": "code",
   "execution_count": 77,
   "id": "0adff7f4",
   "metadata": {
    "slideshow": {
     "slide_type": "fragment"
    }
   },
   "outputs": [],
   "source": [
    "system_message = {\n",
    "    \"role\": \"system\",\n",
    "    \"content\": (\n",
    "        \"\"\"\n",
    "        You are a Review Summariser. \\\n",
    "        Your job is to process reviews from customers, \\\n",
    "        and summarise them for analysis for the customer review team.\n",
    "        \"\"\"\n",
    "    ),\n",
    "}\n",
    "\n",
    "messages = [system_message]"
   ]
  },
  {
   "cell_type": "code",
   "execution_count": 79,
   "id": "ecdcd143",
   "metadata": {
    "slideshow": {
     "slide_type": "slide"
    }
   },
   "outputs": [
    {
     "name": "stdout",
     "output_type": "stream",
     "text": [
      "Review 1: John123 is highly satisfied with the savings product, praising the fantastic interest rates and significant growth of their savings. Highly recommends it.\n",
      "\n",
      "Review 2: Sarah77 is disappointed with the savings product. The promised returns were not as impressive as advertised, and the fees associated with it added up quickly. Not worth it.\n",
      "\n",
      "Review 3: AlexSmith is indifferent about the savings product. It is described as a basic savings account with nothing special, but it gets the job done.\n"
     ]
    }
   ],
   "source": [
    "prompt = {\n",
    "    \"role\": \"user\",\n",
    "    \"content\": content,\n",
    "}\n",
    "\n",
    "\n",
    "messages = get_completion_from_messages(prompt, messages)"
   ]
  },
  {
   "cell_type": "markdown",
   "id": "82f8c84c",
   "metadata": {
    "slideshow": {
     "slide_type": "fragment"
    }
   },
   "source": [
    "<div class=\"alert alert-block alert-success\">\n",
    "\n",
    "By using a role prompt via the system message, the summary is more structured and much clearer to read for the user.\n",
    "    \n",
    "</div>"
   ]
  },
  {
   "cell_type": "markdown",
   "id": "effd10ff",
   "metadata": {
    "slideshow": {
     "slide_type": "slide"
    }
   },
   "source": [
    "## Detail and Specificity\n",
    "\n",
    "It is important that when you prompt, you are specific and as clear as possible.\n",
    "\n",
    "Note that clear ≠ short: the more detail you add, the better the model will understand how you want it to behave.\n",
    "\n",
    "In the next example, we'll try to add a category for each review: positive, neutral or negative:"
   ]
  },
  {
   "cell_type": "code",
   "execution_count": 85,
   "id": "2b867d83",
   "metadata": {
    "slideshow": {
     "slide_type": "slide"
    }
   },
   "outputs": [
    {
     "name": "stdout",
     "output_type": "stream",
     "text": [
      "Review 1: Positive\n",
      "Review 2: Bad\n",
      "Review 3: Neutral\n"
     ]
    }
   ],
   "source": [
    "system_message = {\n",
    "    \"role\": \"system\",\n",
    "    \"content\": \"\"\"\n",
    "    You are a Review Summariser. \\\n",
    "    Your job is to process reviews from customers, \\\n",
    "    and summarise them for analysis for the customer review team.\n",
    "    Categorise each review as positive, neutral, or bad.\n",
    "    \"\"\",\n",
    "}\n",
    "\n",
    "prompt = {\"role\": \"user\", \"content\": content}\n",
    "\n",
    "messages = [system_message]\n",
    "messages = get_completion_from_messages(prompt, messages)"
   ]
  },
  {
   "cell_type": "markdown",
   "id": "70d6c744",
   "metadata": {},
   "source": [
    "As you can see, the model has only output the categories, and we're now missing all the other information. Let's be a bit more specific:"
   ]
  },
  {
   "cell_type": "code",
   "execution_count": 83,
   "id": "68527bb9",
   "metadata": {},
   "outputs": [
    {
     "name": "stdout",
     "output_type": "stream",
     "text": [
      "Review 1:\n",
      "- Date: December 15, 2021\n",
      "- Username: John123\n",
      "- Review: I am absolutely delighted with this savings product! The interest rates are fantastic, and it has helped me grow my savings significantly. Highly recommend!\n",
      "- Sentiment: Positive\n",
      "\n",
      "Review 2:\n",
      "- Date: November 28, 2021\n",
      "- Username: Sarah77\n",
      "- Review: I must say, I am quite disappointed with this savings product. The promised returns were not as impressive as advertised, and the fees associated with it added up quickly. Not worth it.\n",
      "- Sentiment: Negative\n",
      "\n",
      "Review 3:\n",
      "- Date: January 5, 2022\n",
      "- Username: AlexSmith\n",
      "- Review: My opinion? I'm rather indifferent about this savings product. It's just like any other basic savings account out there. Nothing special, but it does the job.\n",
      "- Sentiment: Neutral\n",
      "\n",
      "Summary: Customers have expressed positive, negative, and neutral opinions about the savings product. The positive review highlights the fantastic interest rates and significant growth in savings. The negative review mentions disappointment with the returns and high fees. The neutral review states that the product is like any other basic savings account.\n"
     ]
    }
   ],
   "source": [
    "system_message = {\n",
    "    \"role\": \"system\",\n",
    "    \"content\": \"\"\"\n",
    "    You are a Review Summariser. \\\n",
    "    Your job is to process reviews from customers, \\\n",
    "    and summarise them for analysis for the customer review team. \\\n",
    "\n",
    "    For each review output the name and date. Also label each review as either \\\n",
    "    these are 'Positive','Neutral', or 'Negative'.\n",
    "    Then provide a summary of key points in a single sentence.\n",
    "    \"\"\",\n",
    "}\n",
    "\n",
    "prompt = {\"role\": \"user\", \"content\": content}\n",
    "\n",
    "messages = [system_message]\n",
    "messages = get_completion_from_messages(prompt, messages)"
   ]
  },
  {
   "cell_type": "markdown",
   "id": "3ec330fe",
   "metadata": {},
   "source": [
    "Great! We now have all the information displayed appropriately for each review. It's even structured the data for us in a list! Let's see if we can use a structure then to formalise our output a bit better."
   ]
  },
  {
   "cell_type": "code",
   "execution_count": 89,
   "id": "0645a6d8",
   "metadata": {},
   "outputs": [
    {
     "name": "stdout",
     "output_type": "stream",
     "text": [
      "{\n",
      "  \"reviews\": [\n",
      "    {\n",
      "      \"username\": \"John123\",\n",
      "      \"date\": \"15/12/2021\",\n",
      "      \"sentiment\": \"Positive\",\n",
      "      \"key points\": \"Delighted with the savings product, fantastic interest rates, helped grow savings significantly, highly recommend\"\n",
      "    },\n",
      "    {\n",
      "      \"username\": \"Sarah77\",\n",
      "      \"date\": \"28/11/2021\",\n",
      "      \"sentiment\": \"Negative\",\n",
      "      \"key points\": \"Disappointed with the savings product, promised returns not as impressive as advertised, fees added up quickly, not worth it\"\n",
      "    },\n",
      "    {\n",
      "      \"username\": \"AlexSmith\",\n",
      "      \"date\": \"05/01/2022\",\n",
      "      \"sentiment\": \"Neutral\",\n",
      "      \"key points\": \"Indifferent about the savings product, just like any other basic savings account, nothing special, does the job\"\n",
      "    }\n",
      "  ]\n",
      "}\n"
     ]
    }
   ],
   "source": [
    "system_message = {\n",
    "    \"role\": \"system\",\n",
    "    \"content\": \"\"\"\n",
    "    Role: You are a Review Summariser. \\\n",
    "    Description of task: Your job is to process reviews from customers, \\\n",
    "    and summarise them for analysis for the customer review team. \\\n",
    "    You need to read through each review, understand \\\n",
    "    the sentiment expressed by the customer, and then summarise \\\n",
    "    the key points.\n",
    "\n",
    "    Additionally, you are required to categorise each review based \\\n",
    "    on the sentiment expressed by the customer: these are:\n",
    "\n",
    "    - 'Positive'\n",
    "    - 'Neutral'\n",
    "    - 'Negative'\n",
    "\n",
    "\n",
    "    Output: When outputting this information, output it using the following structure:\n",
    "    - username: name of customer who made review\n",
    "    - date: date of review, written as dd/mm/yyyy\n",
    "    - sentiment: review sentiment\n",
    "    - Key points: key points of each review in one\n",
    "    \"\"\",\n",
    "}\n",
    "\n",
    "prompt = {\n",
    "    \"role\": \"user\",\n",
    "    \"content\": f\"\"\"\n",
    "    Summarise these 3 reviews:\n",
    "    {reviews}\n",
    "    Return your response as a JSON\n",
    "    \"\"\",\n",
    "}\n",
    "\n",
    "messages = [system_message]\n",
    "messages = get_completion_from_messages(prompt, messages)"
   ]
  },
  {
   "cell_type": "code",
   "execution_count": null,
   "id": "f97c3654",
   "metadata": {},
   "outputs": [],
   "source": []
  }
 ],
 "metadata": {
  "celltoolbar": "Slideshow",
  "kernelspec": {
   "display_name": "Python 3",
   "language": "python",
   "name": "python3"
  },
  "language_info": {
   "codemirror_mode": {
    "name": "ipython",
    "version": 3
   },
   "file_extension": ".py",
   "mimetype": "text/x-python",
   "name": "python",
   "nbconvert_exporter": "python",
   "pygments_lexer": "ipython3",
   "version": "3.9.18"
  }
 },
 "nbformat": 4,
 "nbformat_minor": 5
}
